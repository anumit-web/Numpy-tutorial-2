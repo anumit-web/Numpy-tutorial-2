{
  "nbformat": 4,
  "nbformat_minor": 0,
  "metadata": {
    "colab": {
      "provenance": [],
      "include_colab_link": true
    },
    "kernelspec": {
      "name": "python3",
      "display_name": "Python 3"
    },
    "language_info": {
      "name": "python"
    }
  },
  "cells": [
    {
      "cell_type": "markdown",
      "metadata": {
        "id": "view-in-github",
        "colab_type": "text"
      },
      "source": [
        "<a href=\"https://colab.research.google.com/github/anumit-web/Numpy-tutorial-2/blob/main/Numpy_test_2_2.ipynb\" target=\"_parent\"><img src=\"https://colab.research.google.com/assets/colab-badge.svg\" alt=\"Open In Colab\"/></a>"
      ]
    },
    {
      "cell_type": "markdown",
      "source": [
        "## Numpy functions\n"
      ],
      "metadata": {
        "id": "RU0dTbWCgXfY"
      }
    },
    {
      "cell_type": "markdown",
      "source": [
        "create array"
      ],
      "metadata": {
        "id": "xWf87rxHgvXJ"
      }
    },
    {
      "cell_type": "code",
      "source": [
        "# np create function"
      ],
      "metadata": {
        "id": "MIeHMGqPgx8I"
      },
      "execution_count": 26,
      "outputs": []
    },
    {
      "cell_type": "code",
      "source": [
        "arr = np.zeros(5)\n",
        "print(arr)  # [0. 0. 0. 0. 0.]\n",
        "\n",
        "print(\"--------------------\")\n",
        "\n",
        "# Create a 2D array with 3 rows and 4 columns, filled with zeros\n",
        "arr = np.zeros((3, 4))\n",
        "print(arr)\n",
        "# [[0. 0. 0. 0.]\n",
        "#  [0. 0. 0. 0.]\n",
        "#  [0. 0. 0. 0.]]\n"
      ],
      "metadata": {
        "colab": {
          "base_uri": "https://localhost:8080/"
        },
        "id": "XJOXQQ9Pprdk",
        "outputId": "db24c800-3faa-4ef0-812e-a9e2016fef0b"
      },
      "execution_count": 27,
      "outputs": [
        {
          "output_type": "stream",
          "name": "stdout",
          "text": [
            "[0. 0. 0. 0. 0.]\n",
            "--------------------\n",
            "[[0. 0. 0. 0.]\n",
            " [0. 0. 0. 0.]\n",
            " [0. 0. 0. 0.]]\n"
          ]
        }
      ]
    },
    {
      "cell_type": "code",
      "source": [
        "\n",
        "# Create a 1D array with 5 ones\n",
        "arr = np.ones(5)\n",
        "print(arr)  # [1. 1. 1. 1. 1.]\n",
        "\n",
        "print(\"--------------------\")\n",
        "\n",
        "# Create a 2D array with 3 rows and 4 columns, filled with ones\n",
        "arr = np.ones((3, 4))\n",
        "print(arr)\n",
        "# [[1. 1. 1. 1.]\n",
        "#  [1. 1. 1. 1.]\n",
        "#  [1. 1. 1. 1.]]"
      ],
      "metadata": {
        "colab": {
          "base_uri": "https://localhost:8080/"
        },
        "id": "ouQJxZJ7rb3H",
        "outputId": "7419985f-0719-48c6-d41e-bb7929a8f7ee"
      },
      "execution_count": 28,
      "outputs": [
        {
          "output_type": "stream",
          "name": "stdout",
          "text": [
            "[1. 1. 1. 1. 1.]\n",
            "--------------------\n",
            "[[1. 1. 1. 1.]\n",
            " [1. 1. 1. 1.]\n",
            " [1. 1. 1. 1.]]\n"
          ]
        }
      ]
    },
    {
      "cell_type": "code",
      "source": [
        "\n",
        "# Create an empty 1D array with 5 elements\n",
        "arr = np.empty(5)\n",
        "print(arr)  # [ random values ]\n",
        "\n",
        "print(\"--------------------\")\n",
        "\n",
        "# Create an empty 2D array with 3 rows and 4 columns\n",
        "arr = np.empty((3, 4))\n",
        "print(arr)\n",
        "# [[ random values ]\n",
        "#  [ random values ]\n",
        "#  [ random values ]]"
      ],
      "metadata": {
        "colab": {
          "base_uri": "https://localhost:8080/"
        },
        "id": "NdY4PqfcscKp",
        "outputId": "bbeffcac-882f-4c79-9bb5-28b0c39f413c"
      },
      "execution_count": 29,
      "outputs": [
        {
          "output_type": "stream",
          "name": "stdout",
          "text": [
            "[1. 1. 1. 1. 1.]\n",
            "--------------------\n",
            "[[1. 1. 1. 1.]\n",
            " [1. 1. 1. 1.]\n",
            " [1. 1. 1. 1.]]\n"
          ]
        }
      ]
    },
    {
      "cell_type": "code",
      "source": [
        "# numpy.arange(start, stop, step, dtype=None)"
      ],
      "metadata": {
        "id": "tJ-r3wDJtDrV"
      },
      "execution_count": null,
      "outputs": []
    },
    {
      "cell_type": "code",
      "source": [
        "# Create an array with values from 0 to 9\n",
        "arr = np.arange(10)\n",
        "print(arr)  # [0 1 2 3 4 5 6 7 8 9]\n",
        "\n",
        "# Create an array with values from 1 to 10\n",
        "arr = np.arange(1, 11)\n",
        "print(arr)  # [1 2 3 4 5 6 7 8 9 10]\n",
        "\n",
        "# Create an array with values from 0 to 10 with a step of 2\n",
        "arr = np.arange(0, 11, 2)\n",
        "print(arr)  # [0 2 4 6 8 10]\n",
        "\n",
        "# Create an array with values from 10 to 0 with a step of -1\n",
        "arr = np.arange(10, -1, -1)\n",
        "print(arr)  # [10 9 8 7 6 5 4 3 2 1 0]"
      ],
      "metadata": {
        "id": "mn19UjeEtHQ-"
      },
      "execution_count": null,
      "outputs": []
    }
  ]
}