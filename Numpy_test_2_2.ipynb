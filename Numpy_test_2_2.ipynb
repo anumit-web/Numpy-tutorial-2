{
  "nbformat": 4,
  "nbformat_minor": 0,
  "metadata": {
    "colab": {
      "provenance": [],
      "include_colab_link": true
    },
    "kernelspec": {
      "name": "python3",
      "display_name": "Python 3"
    },
    "language_info": {
      "name": "python"
    }
  },
  "cells": [
    {
      "cell_type": "markdown",
      "metadata": {
        "id": "view-in-github",
        "colab_type": "text"
      },
      "source": [
        "<a href=\"https://colab.research.google.com/github/anumit-web/Numpy-tutorial-2/blob/main/Numpy_test_2_2.ipynb\" target=\"_parent\"><img src=\"https://colab.research.google.com/assets/colab-badge.svg\" alt=\"Open In Colab\"/></a>"
      ]
    },
    {
      "cell_type": "markdown",
      "source": [
        "## Numpy functions\n"
      ],
      "metadata": {
        "id": "RU0dTbWCgXfY"
      }
    },
    {
      "cell_type": "markdown",
      "source": [
        "create array"
      ],
      "metadata": {
        "id": "xWf87rxHgvXJ"
      }
    },
    {
      "cell_type": "code",
      "source": [
        "# np create function"
      ],
      "metadata": {
        "id": "MIeHMGqPgx8I"
      },
      "execution_count": 13,
      "outputs": []
    },
    {
      "cell_type": "code",
      "source": [
        "arr = np.zeros(5)\n",
        "print(arr)  # [0. 0. 0. 0. 0.]\n",
        "\n",
        "print(\"--------------------\")\n",
        "\n",
        "# Create a 2D array with 3 rows and 4 columns, filled with zeros\n",
        "arr = np.zeros((3, 4))\n",
        "print(arr)\n",
        "# [[0. 0. 0. 0.]\n",
        "#  [0. 0. 0. 0.]\n",
        "#  [0. 0. 0. 0.]]\n"
      ],
      "metadata": {
        "colab": {
          "base_uri": "https://localhost:8080/"
        },
        "id": "XJOXQQ9Pprdk",
        "outputId": "745cccfd-efbf-4342-ecc4-d708ff8f86a2"
      },
      "execution_count": 14,
      "outputs": [
        {
          "output_type": "stream",
          "name": "stdout",
          "text": [
            "[0. 0. 0. 0. 0.]\n",
            "--------------------\n",
            "[[0. 0. 0. 0.]\n",
            " [0. 0. 0. 0.]\n",
            " [0. 0. 0. 0.]]\n"
          ]
        }
      ]
    },
    {
      "cell_type": "code",
      "source": [
        "\n",
        "# Create a 1D array with 5 ones\n",
        "arr = np.ones(5)\n",
        "print(arr)  # [1. 1. 1. 1. 1.]\n",
        "\n",
        "# Create a 2D array with 3 rows and 4 columns, filled with ones\n",
        "arr = np.ones((3, 4))\n",
        "print(arr)\n",
        "# [[1. 1. 1. 1.]\n",
        "#  [1. 1. 1. 1.]\n",
        "#  [1. 1. 1. 1.]]"
      ],
      "metadata": {
        "id": "ouQJxZJ7rb3H"
      },
      "execution_count": null,
      "outputs": []
    }
  ]
}