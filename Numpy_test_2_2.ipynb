{
  "nbformat": 4,
  "nbformat_minor": 0,
  "metadata": {
    "colab": {
      "provenance": [],
      "include_colab_link": true
    },
    "kernelspec": {
      "name": "python3",
      "display_name": "Python 3"
    },
    "language_info": {
      "name": "python"
    }
  },
  "cells": [
    {
      "cell_type": "markdown",
      "metadata": {
        "id": "view-in-github",
        "colab_type": "text"
      },
      "source": [
        "<a href=\"https://colab.research.google.com/github/anumit-web/Numpy-tutorial-2/blob/main/Numpy_test_2_2.ipynb\" target=\"_parent\"><img src=\"https://colab.research.google.com/assets/colab-badge.svg\" alt=\"Open In Colab\"/></a>"
      ]
    },
    {
      "cell_type": "markdown",
      "source": [
        "## Numpy functions\n"
      ],
      "metadata": {
        "id": "RU0dTbWCgXfY"
      }
    },
    {
      "cell_type": "markdown",
      "source": [
        "create array"
      ],
      "metadata": {
        "id": "xWf87rxHgvXJ"
      }
    },
    {
      "cell_type": "code",
      "source": [
        "# np create function"
      ],
      "metadata": {
        "id": "MIeHMGqPgx8I"
      },
      "execution_count": 18,
      "outputs": []
    },
    {
      "cell_type": "code",
      "source": [
        "arr = np.zeros(5)\n",
        "print(arr)  # [0. 0. 0. 0. 0.]\n",
        "\n",
        "print(\"--------------------\")\n",
        "\n",
        "# Create a 2D array with 3 rows and 4 columns, filled with zeros\n",
        "arr = np.zeros((3, 4))\n",
        "print(arr)\n",
        "# [[0. 0. 0. 0.]\n",
        "#  [0. 0. 0. 0.]\n",
        "#  [0. 0. 0. 0.]]\n"
      ],
      "metadata": {
        "colab": {
          "base_uri": "https://localhost:8080/"
        },
        "id": "XJOXQQ9Pprdk",
        "outputId": "6ceeb6c7-9517-42fc-f209-9e6230dcae1d"
      },
      "execution_count": 19,
      "outputs": [
        {
          "output_type": "stream",
          "name": "stdout",
          "text": [
            "[0. 0. 0. 0. 0.]\n",
            "--------------------\n",
            "[[0. 0. 0. 0.]\n",
            " [0. 0. 0. 0.]\n",
            " [0. 0. 0. 0.]]\n"
          ]
        }
      ]
    },
    {
      "cell_type": "code",
      "source": [
        "\n",
        "# Create a 1D array with 5 ones\n",
        "arr = np.ones(5)\n",
        "print(arr)  # [1. 1. 1. 1. 1.]\n",
        "\n",
        "print(\"--------------------\")\n",
        "\n",
        "# Create a 2D array with 3 rows and 4 columns, filled with ones\n",
        "arr = np.ones((3, 4))\n",
        "print(arr)\n",
        "# [[1. 1. 1. 1.]\n",
        "#  [1. 1. 1. 1.]\n",
        "#  [1. 1. 1. 1.]]"
      ],
      "metadata": {
        "colab": {
          "base_uri": "https://localhost:8080/"
        },
        "id": "ouQJxZJ7rb3H",
        "outputId": "b089407a-90b0-4a89-ae9d-f87c9411fdba"
      },
      "execution_count": 20,
      "outputs": [
        {
          "output_type": "stream",
          "name": "stdout",
          "text": [
            "[1. 1. 1. 1. 1.]\n",
            "--------------------\n",
            "[[1. 1. 1. 1.]\n",
            " [1. 1. 1. 1.]\n",
            " [1. 1. 1. 1.]]\n"
          ]
        }
      ]
    }
  ]
}