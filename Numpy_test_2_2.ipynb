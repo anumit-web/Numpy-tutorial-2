{
  "nbformat": 4,
  "nbformat_minor": 0,
  "metadata": {
    "colab": {
      "provenance": [],
      "include_colab_link": true
    },
    "kernelspec": {
      "name": "python3",
      "display_name": "Python 3"
    },
    "language_info": {
      "name": "python"
    }
  },
  "cells": [
    {
      "cell_type": "markdown",
      "metadata": {
        "id": "view-in-github",
        "colab_type": "text"
      },
      "source": [
        "<a href=\"https://colab.research.google.com/github/anumit-web/Numpy-tutorial-2/blob/main/Numpy_test_2_2.ipynb\" target=\"_parent\"><img src=\"https://colab.research.google.com/assets/colab-badge.svg\" alt=\"Open In Colab\"/></a>"
      ]
    },
    {
      "cell_type": "markdown",
      "source": [
        "## Numpy functions\n"
      ],
      "metadata": {
        "id": "RU0dTbWCgXfY"
      }
    },
    {
      "cell_type": "markdown",
      "source": [
        "create array"
      ],
      "metadata": {
        "id": "xWf87rxHgvXJ"
      }
    },
    {
      "cell_type": "code",
      "source": [
        "# np create function"
      ],
      "metadata": {
        "id": "MIeHMGqPgx8I"
      },
      "execution_count": 26,
      "outputs": []
    },
    {
      "cell_type": "code",
      "source": [
        "arr = np.zeros(5)\n",
        "print(arr)  # [0. 0. 0. 0. 0.]\n",
        "\n",
        "print(\"--------------------\")\n",
        "\n",
        "# Create a 2D array with 3 rows and 4 columns, filled with zeros\n",
        "arr = np.zeros((3, 4))\n",
        "print(arr)\n",
        "# [[0. 0. 0. 0.]\n",
        "#  [0. 0. 0. 0.]\n",
        "#  [0. 0. 0. 0.]]\n"
      ],
      "metadata": {
        "colab": {
          "base_uri": "https://localhost:8080/"
        },
        "id": "XJOXQQ9Pprdk",
        "outputId": "db24c800-3faa-4ef0-812e-a9e2016fef0b"
      },
      "execution_count": 27,
      "outputs": [
        {
          "output_type": "stream",
          "name": "stdout",
          "text": [
            "[0. 0. 0. 0. 0.]\n",
            "--------------------\n",
            "[[0. 0. 0. 0.]\n",
            " [0. 0. 0. 0.]\n",
            " [0. 0. 0. 0.]]\n"
          ]
        }
      ]
    },
    {
      "cell_type": "code",
      "source": [
        "\n",
        "# Create a 1D array with 5 ones\n",
        "arr = np.ones(5)\n",
        "print(arr)  # [1. 1. 1. 1. 1.]\n",
        "\n",
        "print(\"--------------------\")\n",
        "\n",
        "# Create a 2D array with 3 rows and 4 columns, filled with ones\n",
        "arr = np.ones((3, 4))\n",
        "print(arr)\n",
        "# [[1. 1. 1. 1.]\n",
        "#  [1. 1. 1. 1.]\n",
        "#  [1. 1. 1. 1.]]"
      ],
      "metadata": {
        "colab": {
          "base_uri": "https://localhost:8080/"
        },
        "id": "ouQJxZJ7rb3H",
        "outputId": "7419985f-0719-48c6-d41e-bb7929a8f7ee"
      },
      "execution_count": 28,
      "outputs": [
        {
          "output_type": "stream",
          "name": "stdout",
          "text": [
            "[1. 1. 1. 1. 1.]\n",
            "--------------------\n",
            "[[1. 1. 1. 1.]\n",
            " [1. 1. 1. 1.]\n",
            " [1. 1. 1. 1.]]\n"
          ]
        }
      ]
    },
    {
      "cell_type": "code",
      "source": [
        "\n",
        "# Create an empty 1D array with 5 elements\n",
        "arr = np.empty(5)\n",
        "print(arr)  # [ random values ]\n",
        "\n",
        "print(\"--------------------\")\n",
        "\n",
        "# Create an empty 2D array with 3 rows and 4 columns\n",
        "arr = np.empty((3, 4))\n",
        "print(arr)\n",
        "# [[ random values ]\n",
        "#  [ random values ]\n",
        "#  [ random values ]]"
      ],
      "metadata": {
        "colab": {
          "base_uri": "https://localhost:8080/"
        },
        "id": "NdY4PqfcscKp",
        "outputId": "bbeffcac-882f-4c79-9bb5-28b0c39f413c"
      },
      "execution_count": 29,
      "outputs": [
        {
          "output_type": "stream",
          "name": "stdout",
          "text": [
            "[1. 1. 1. 1. 1.]\n",
            "--------------------\n",
            "[[1. 1. 1. 1.]\n",
            " [1. 1. 1. 1.]\n",
            " [1. 1. 1. 1.]]\n"
          ]
        }
      ]
    }
  ]
}