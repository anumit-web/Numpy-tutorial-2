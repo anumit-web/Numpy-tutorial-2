{
  "nbformat": 4,
  "nbformat_minor": 0,
  "metadata": {
    "colab": {
      "provenance": [],
      "include_colab_link": true
    },
    "kernelspec": {
      "name": "python3",
      "display_name": "Python 3"
    },
    "language_info": {
      "name": "python"
    }
  },
  "cells": [
    {
      "cell_type": "markdown",
      "metadata": {
        "id": "view-in-github",
        "colab_type": "text"
      },
      "source": [
        "<a href=\"https://colab.research.google.com/github/anumit-web/Numpy-tutorial-2/blob/main/Numpy_test_2_2.ipynb\" target=\"_parent\"><img src=\"https://colab.research.google.com/assets/colab-badge.svg\" alt=\"Open In Colab\"/></a>"
      ]
    },
    {
      "cell_type": "code",
      "source": [],
      "metadata": {
        "id": "q4vjBxL0gXSf"
      },
      "execution_count": null,
      "outputs": []
    },
    {
      "cell_type": "markdown",
      "source": [
        "## Numpy functions\n"
      ],
      "metadata": {
        "id": "RU0dTbWCgXfY"
      }
    },
    {
      "cell_type": "code",
      "source": [],
      "metadata": {
        "id": "c3BUYy_VgdnY"
      },
      "execution_count": null,
      "outputs": []
    }
  ]
}