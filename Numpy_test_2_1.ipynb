{
  "nbformat": 4,
  "nbformat_minor": 0,
  "metadata": {
    "colab": {
      "provenance": [],
      "include_colab_link": true
    },
    "kernelspec": {
      "name": "python3",
      "display_name": "Python 3"
    },
    "language_info": {
      "name": "python"
    }
  },
  "cells": [
    {
      "cell_type": "markdown",
      "metadata": {
        "id": "view-in-github",
        "colab_type": "text"
      },
      "source": [
        "<a href=\"https://colab.research.google.com/github/anumit-web/Numpy-tutorial-2/blob/main/Numpy_test_2_1.ipynb\" target=\"_parent\"><img src=\"https://colab.research.google.com/assets/colab-badge.svg\" alt=\"Open In Colab\"/></a>"
      ]
    },
    {
      "cell_type": "markdown",
      "source": [
        "## Numpy"
      ],
      "metadata": {
        "id": "UfHQZdFp-XAl"
      }
    },
    {
      "cell_type": "markdown",
      "source": [
        "https://www.programiz.com/python-programming/numpy/introduction"
      ],
      "metadata": {
        "id": "HRXXj68Y-aoX"
      }
    },
    {
      "cell_type": "code",
      "source": [
        "import numpy as np"
      ],
      "metadata": {
        "id": "o7-G2Q7g-Egj"
      },
      "execution_count": 25,
      "outputs": []
    },
    {
      "cell_type": "code",
      "source": [
        "import numpy as np\n",
        "\n",
        "# create a list named list1\n",
        "list1 = [2, 4, 6, 8]\n",
        "\n",
        "# create numpy array using list1\n",
        "array1 = np.array(list1)\n",
        "\n",
        "print(array1)\n",
        "\n",
        "# Output: [2 4 6 8]"
      ],
      "metadata": {
        "id": "1FhkvmOK-urq",
        "outputId": "ff64fc5a-efd5-4180-d79f-d5de24a15f88",
        "colab": {
          "base_uri": "https://localhost:8080/"
        }
      },
      "execution_count": 26,
      "outputs": [
        {
          "output_type": "stream",
          "name": "stdout",
          "text": [
            "[2 4 6 8]\n"
          ]
        }
      ]
    },
    {
      "cell_type": "code",
      "source": [
        "import numpy as np\n",
        "\n",
        "# create numpy array using a list\n",
        "array1 = np.array([2, 4, 6, 8])\n",
        "print(array1)\n",
        "\n",
        "# Output: [2  4  6 8]"
      ],
      "metadata": {
        "id": "PJJXjkY8-5Pw",
        "outputId": "c28f08f0-2b92-45d8-bc21-452b81304c44",
        "colab": {
          "base_uri": "https://localhost:8080/"
        }
      },
      "execution_count": 27,
      "outputs": [
        {
          "output_type": "stream",
          "name": "stdout",
          "text": [
            "[2 4 6 8]\n"
          ]
        }
      ]
    },
    {
      "cell_type": "markdown",
      "source": [
        "Create an Array Using np.zeros()"
      ],
      "metadata": {
        "id": "J2jy2jrm_h2G"
      }
    },
    {
      "cell_type": "code",
      "source": [
        "import numpy as np\n",
        "\n",
        "# create an array with 4 elements filled with zeros\n",
        "array1 = np.zeros(4)\n",
        "\n",
        "print(array1)\n",
        "\n",
        "# Output: [0. 0. 0. 0.]"
      ],
      "metadata": {
        "id": "mO8w_cqR_len",
        "outputId": "fe2d5641-e4ae-4e6c-ddae-4d403ae0c84e",
        "colab": {
          "base_uri": "https://localhost:8080/"
        }
      },
      "execution_count": 28,
      "outputs": [
        {
          "output_type": "stream",
          "name": "stdout",
          "text": [
            "[0. 0. 0. 0.]\n"
          ]
        }
      ]
    },
    {
      "cell_type": "code",
      "source": [
        "import numpy as np\n",
        "\n",
        "# create an array with values from 0 to 4\n",
        "array1 = np.arange(5)\n",
        "\n",
        "print(\"Using np.arange(5):\", array1)\n",
        "\n",
        "# create an array with values from 1 to 8 with a step of 2\n",
        "array2 = np.arange(1, 9, 2)\n",
        "\n",
        "print(\"Using np.arange(1, 9, 2):\",array2)"
      ],
      "metadata": {
        "id": "1wjAJh7P_5fz",
        "outputId": "5e461722-eb9c-4adc-96f9-876b414b706e",
        "colab": {
          "base_uri": "https://localhost:8080/"
        }
      },
      "execution_count": 29,
      "outputs": [
        {
          "output_type": "stream",
          "name": "stdout",
          "text": [
            "Using np.arange(5): [0 1 2 3 4]\n",
            "Using np.arange(1, 9, 2): [1 3 5 7]\n"
          ]
        }
      ]
    },
    {
      "cell_type": "code",
      "source": [
        "import numpy as np\n",
        "\n",
        "# generate an array of 5 random numbers\n",
        "array1 = np.random.rand(5)\n",
        "\n",
        "print(array1)"
      ],
      "metadata": {
        "id": "ZnY9lqu2AOs0",
        "outputId": "7c501b06-58d4-4cf4-cc75-0ffff18b497a",
        "colab": {
          "base_uri": "https://localhost:8080/"
        }
      },
      "execution_count": 30,
      "outputs": [
        {
          "output_type": "stream",
          "name": "stdout",
          "text": [
            "[0.27015747 0.38735075 0.44094588 0.38170677 0.1586819 ]\n"
          ]
        }
      ]
    },
    {
      "cell_type": "code",
      "source": [
        "import numpy as np\n",
        "\n",
        "# create an empty array of length 4\n",
        "array1 = np.empty(4)\n",
        "\n",
        "print(array1)"
      ],
      "metadata": {
        "id": "zcOb7zARAXGk",
        "outputId": "f77266ed-30da-4ad1-dd51-891a5936b543",
        "colab": {
          "base_uri": "https://localhost:8080/"
        }
      },
      "execution_count": 31,
      "outputs": [
        {
          "output_type": "stream",
          "name": "stdout",
          "text": [
            "[4.9e-324 1.5e-323 2.5e-323 3.5e-323]\n"
          ]
        }
      ]
    }
  ]
}